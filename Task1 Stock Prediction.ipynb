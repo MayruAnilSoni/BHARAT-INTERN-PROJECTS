{
 "cells": [
  {
   "cell_type": "code",
   "execution_count": 1,
   "id": "f1125a8c",
   "metadata": {},
   "outputs": [
    {
     "data": {
      "text/plain": [
       "'C:\\\\Users\\\\lenovo'"
      ]
     },
     "execution_count": 1,
     "metadata": {},
     "output_type": "execute_result"
    }
   ],
   "source": [
    "pwd\n"
   ]
  },
  {
   "cell_type": "code",
   "execution_count": 2,
   "id": "364e1f46",
   "metadata": {},
   "outputs": [],
   "source": [
    "import pandas as pd\n",
    "import tensorflow as tf"
   ]
  },
  {
   "cell_type": "code",
   "execution_count": 3,
   "id": "e7857ed0",
   "metadata": {},
   "outputs": [],
   "source": [
    "df=pd.read_csv('GOOG.csv')"
   ]
  },
  {
   "cell_type": "code",
   "execution_count": 4,
   "id": "0d2880fd",
   "metadata": {},
   "outputs": [
    {
     "data": {
      "text/html": [
       "<div>\n",
       "<style scoped>\n",
       "    .dataframe tbody tr th:only-of-type {\n",
       "        vertical-align: middle;\n",
       "    }\n",
       "\n",
       "    .dataframe tbody tr th {\n",
       "        vertical-align: top;\n",
       "    }\n",
       "\n",
       "    .dataframe thead th {\n",
       "        text-align: right;\n",
       "    }\n",
       "</style>\n",
       "<table border=\"1\" class=\"dataframe\">\n",
       "  <thead>\n",
       "    <tr style=\"text-align: right;\">\n",
       "      <th></th>\n",
       "      <th>symbol</th>\n",
       "      <th>date</th>\n",
       "      <th>close</th>\n",
       "      <th>high</th>\n",
       "      <th>low</th>\n",
       "      <th>open</th>\n",
       "      <th>volume</th>\n",
       "      <th>adjClose</th>\n",
       "      <th>adjHigh</th>\n",
       "      <th>adjLow</th>\n",
       "      <th>adjOpen</th>\n",
       "      <th>adjVolume</th>\n",
       "      <th>divCash</th>\n",
       "      <th>splitFactor</th>\n",
       "    </tr>\n",
       "  </thead>\n",
       "  <tbody>\n",
       "    <tr>\n",
       "      <th>0</th>\n",
       "      <td>GOOG</td>\n",
       "      <td>2016-06-14 00:00:00+00:00</td>\n",
       "      <td>718.27</td>\n",
       "      <td>722.47</td>\n",
       "      <td>713.1200</td>\n",
       "      <td>716.48</td>\n",
       "      <td>1306065</td>\n",
       "      <td>718.27</td>\n",
       "      <td>722.47</td>\n",
       "      <td>713.1200</td>\n",
       "      <td>716.48</td>\n",
       "      <td>1306065</td>\n",
       "      <td>0.0</td>\n",
       "      <td>1.0</td>\n",
       "    </tr>\n",
       "    <tr>\n",
       "      <th>1</th>\n",
       "      <td>GOOG</td>\n",
       "      <td>2016-06-15 00:00:00+00:00</td>\n",
       "      <td>718.92</td>\n",
       "      <td>722.98</td>\n",
       "      <td>717.3100</td>\n",
       "      <td>719.00</td>\n",
       "      <td>1214517</td>\n",
       "      <td>718.92</td>\n",
       "      <td>722.98</td>\n",
       "      <td>717.3100</td>\n",
       "      <td>719.00</td>\n",
       "      <td>1214517</td>\n",
       "      <td>0.0</td>\n",
       "      <td>1.0</td>\n",
       "    </tr>\n",
       "    <tr>\n",
       "      <th>2</th>\n",
       "      <td>GOOG</td>\n",
       "      <td>2016-06-16 00:00:00+00:00</td>\n",
       "      <td>710.36</td>\n",
       "      <td>716.65</td>\n",
       "      <td>703.2600</td>\n",
       "      <td>714.91</td>\n",
       "      <td>1982471</td>\n",
       "      <td>710.36</td>\n",
       "      <td>716.65</td>\n",
       "      <td>703.2600</td>\n",
       "      <td>714.91</td>\n",
       "      <td>1982471</td>\n",
       "      <td>0.0</td>\n",
       "      <td>1.0</td>\n",
       "    </tr>\n",
       "    <tr>\n",
       "      <th>3</th>\n",
       "      <td>GOOG</td>\n",
       "      <td>2016-06-17 00:00:00+00:00</td>\n",
       "      <td>691.72</td>\n",
       "      <td>708.82</td>\n",
       "      <td>688.4515</td>\n",
       "      <td>708.65</td>\n",
       "      <td>3402357</td>\n",
       "      <td>691.72</td>\n",
       "      <td>708.82</td>\n",
       "      <td>688.4515</td>\n",
       "      <td>708.65</td>\n",
       "      <td>3402357</td>\n",
       "      <td>0.0</td>\n",
       "      <td>1.0</td>\n",
       "    </tr>\n",
       "    <tr>\n",
       "      <th>4</th>\n",
       "      <td>GOOG</td>\n",
       "      <td>2016-06-20 00:00:00+00:00</td>\n",
       "      <td>693.71</td>\n",
       "      <td>702.48</td>\n",
       "      <td>693.4100</td>\n",
       "      <td>698.77</td>\n",
       "      <td>2082538</td>\n",
       "      <td>693.71</td>\n",
       "      <td>702.48</td>\n",
       "      <td>693.4100</td>\n",
       "      <td>698.77</td>\n",
       "      <td>2082538</td>\n",
       "      <td>0.0</td>\n",
       "      <td>1.0</td>\n",
       "    </tr>\n",
       "  </tbody>\n",
       "</table>\n",
       "</div>"
      ],
      "text/plain": [
       "  symbol                       date   close    high       low    open  \\\n",
       "0   GOOG  2016-06-14 00:00:00+00:00  718.27  722.47  713.1200  716.48   \n",
       "1   GOOG  2016-06-15 00:00:00+00:00  718.92  722.98  717.3100  719.00   \n",
       "2   GOOG  2016-06-16 00:00:00+00:00  710.36  716.65  703.2600  714.91   \n",
       "3   GOOG  2016-06-17 00:00:00+00:00  691.72  708.82  688.4515  708.65   \n",
       "4   GOOG  2016-06-20 00:00:00+00:00  693.71  702.48  693.4100  698.77   \n",
       "\n",
       "    volume  adjClose  adjHigh    adjLow  adjOpen  adjVolume  divCash  \\\n",
       "0  1306065    718.27   722.47  713.1200   716.48    1306065      0.0   \n",
       "1  1214517    718.92   722.98  717.3100   719.00    1214517      0.0   \n",
       "2  1982471    710.36   716.65  703.2600   714.91    1982471      0.0   \n",
       "3  3402357    691.72   708.82  688.4515   708.65    3402357      0.0   \n",
       "4  2082538    693.71   702.48  693.4100   698.77    2082538      0.0   \n",
       "\n",
       "   splitFactor  \n",
       "0          1.0  \n",
       "1          1.0  \n",
       "2          1.0  \n",
       "3          1.0  \n",
       "4          1.0  "
      ]
     },
     "execution_count": 4,
     "metadata": {},
     "output_type": "execute_result"
    }
   ],
   "source": [
    "df.head()"
   ]
  },
  {
   "cell_type": "code",
   "execution_count": 5,
   "id": "d2f12c5f",
   "metadata": {},
   "outputs": [
    {
     "data": {
      "text/plain": [
       "(1258, 14)"
      ]
     },
     "execution_count": 5,
     "metadata": {},
     "output_type": "execute_result"
    }
   ],
   "source": [
    "df.shape"
   ]
  },
  {
   "cell_type": "code",
   "execution_count": 6,
   "id": "35cb34d2",
   "metadata": {},
   "outputs": [],
   "source": [
    "df1=df.reset_index()['close']"
   ]
  },
  {
   "cell_type": "code",
   "execution_count": 7,
   "id": "91d1f76d",
   "metadata": {},
   "outputs": [
    {
     "data": {
      "text/plain": [
       "0    718.27\n",
       "1    718.92\n",
       "2    710.36\n",
       "3    691.72\n",
       "4    693.71\n",
       "Name: close, dtype: float64"
      ]
     },
     "execution_count": 7,
     "metadata": {},
     "output_type": "execute_result"
    }
   ],
   "source": [
    "df1.head()"
   ]
  },
  {
   "cell_type": "code",
   "execution_count": 8,
   "id": "6b50fc16",
   "metadata": {},
   "outputs": [
    {
     "data": {
      "text/plain": [
       "(1258,)"
      ]
     },
     "execution_count": 8,
     "metadata": {},
     "output_type": "execute_result"
    }
   ],
   "source": [
    "df1.shape"
   ]
  },
  {
   "cell_type": "code",
   "execution_count": 9,
   "id": "7c920cb3",
   "metadata": {},
   "outputs": [
    {
     "data": {
      "text/plain": [
       "[<matplotlib.lines.Line2D at 0x2937fa132e0>]"
      ]
     },
     "execution_count": 9,
     "metadata": {},
     "output_type": "execute_result"
    },
    {
     "data": {
      "image/png": "[encoded data removed]",
      "text/plain": [
       "<Figure size 640x480 with 1 Axes>"
      ]
     },
     "metadata": {},
     "output_type": "display_data"
    }
   ],
   "source": [
    "import matplotlib.pyplot as plt\n",
    "plt.plot(df1)"
   ]
  },
  {
   "cell_type": "code",
   "execution_count": 10,
   "id": "b8031701",
   "metadata": {},
   "outputs": [],
   "source": [
    "import numpy as np"
   ]
  },
  {
   "cell_type": "code",
   "execution_count": 11,
   "id": "4cc0d6e4",
   "metadata": {},
   "outputs": [
    {
     "data": {
      "text/plain": [
       "0        718.27\n",
       "1        718.92\n",
       "2        710.36\n",
       "3        691.72\n",
       "4        693.71\n",
       "         ...   \n",
       "1253    2466.09\n",
       "1254    2482.85\n",
       "1255    2491.40\n",
       "1256    2521.60\n",
       "1257    2513.93\n",
       "Name: close, Length: 1258, dtype: float64"
      ]
     },
     "execution_count": 11,
     "metadata": {},
     "output_type": "execute_result"
    }
   ],
   "source": [
    "df1"
   ]
  },
  {
   "cell_type": "code",
   "execution_count": 12,
   "id": "503de11d",
   "metadata": {},
   "outputs": [
    {
     "ename": "NameError",
     "evalue": "name 'MinMax' is not defined",
     "output_type": "error",
     "traceback": [
      "\u001b[1;31m---------------------------------------------------------------------------\u001b[0m",
      "\u001b[1;31mNameError\u001b[0m                                 Traceback (most recent call last)",
      "Cell \u001b[1;32mIn[12], line 2\u001b[0m\n\u001b[0;32m      1\u001b[0m \u001b[38;5;28;01mfrom\u001b[39;00m \u001b[38;5;21;01msklearn\u001b[39;00m\u001b[38;5;21;01m.\u001b[39;00m\u001b[38;5;21;01mpreprocessing\u001b[39;00m \u001b[38;5;28;01mimport\u001b[39;00m MinMaxScaler\n\u001b[1;32m----> 2\u001b[0m scaler\u001b[38;5;241m=\u001b[39m\u001b[43mMinMax\u001b[49m(feature_range\u001b[38;5;241m=\u001b[39m(\u001b[38;5;241m0\u001b[39m,\u001b[38;5;241m1\u001b[39m))\n\u001b[0;32m      3\u001b[0m df1\u001b[38;5;241m=\u001b[39mscaler\u001b[38;5;241m.\u001b[39mfit_transform(np\u001b[38;5;241m.\u001b[39marray(df1)\u001b[38;5;241m.\u001b[39mreshape(\u001b[38;5;241m-\u001b[39m\u001b[38;5;241m1\u001b[39m,\u001b[38;5;241m1\u001b[39m))\n",
      "\u001b[1;31mNameError\u001b[0m: name 'MinMax' is not defined"
     ]
    }
   ],
   "source": [
    "from sklearn.preprocessing import MinMaxScaler\n",
    "scaler=MinMax(feature_range=(0,1))\n",
    "df1=scaler.fit_transform(np.array(df1).reshape(-1,1))"
   ]
  },
  {
   "cell_type": "code",
   "execution_count": 13,
   "id": "dc56c72c",
   "metadata": {},
   "outputs": [
    {
     "name": "stdout",
     "output_type": "stream",
     "text": [
      "Requirement already satisfied: scikit-learn in c:\\users\\lenovo\\.conda\\envs\\tenserflow\\lib\\site-packages (1.3.2)\n",
      "Requirement already satisfied: numpy<2.0,>=1.17.3 in c:\\users\\lenovo\\.conda\\envs\\tenserflow\\lib\\site-packages (from scikit-learn) (1.26.0)\n",
      "Requirement already satisfied: scipy>=1.5.0 in c:\\users\\lenovo\\.conda\\envs\\tenserflow\\lib\\site-packages (from scikit-learn) (1.11.3)\n",
      "Requirement already satisfied: joblib>=1.1.1 in c:\\users\\lenovo\\.conda\\envs\\tenserflow\\lib\\site-packages (from scikit-learn) (1.3.2)\n",
      "Requirement already satisfied: threadpoolctl>=2.0.0 in c:\\users\\lenovo\\.conda\\envs\\tenserflow\\lib\\site-packages (from scikit-learn) (3.2.0)\n"
     ]
    }
   ],
   "source": [
    "!pip install scikit-learn"
   ]
  },
  {
   "cell_type": "code",
   "execution_count": 14,
   "id": "1854ac73",
   "metadata": {},
   "outputs": [
    {
     "ename": "NameError",
     "evalue": "name 'MinMax' is not defined",
     "output_type": "error",
     "traceback": [
      "\u001b[1;31m---------------------------------------------------------------------------\u001b[0m",
      "\u001b[1;31mNameError\u001b[0m                                 Traceback (most recent call last)",
      "Cell \u001b[1;32mIn[14], line 2\u001b[0m\n\u001b[0;32m      1\u001b[0m \u001b[38;5;28;01mfrom\u001b[39;00m \u001b[38;5;21;01msklearn\u001b[39;00m\u001b[38;5;21;01m.\u001b[39;00m\u001b[38;5;21;01mpreprocessing\u001b[39;00m \u001b[38;5;28;01mimport\u001b[39;00m MinMaxScaler\n\u001b[1;32m----> 2\u001b[0m scaler\u001b[38;5;241m=\u001b[39m\u001b[43mMinMax\u001b[49m(feature_range\u001b[38;5;241m=\u001b[39m(\u001b[38;5;241m0\u001b[39m,\u001b[38;5;241m1\u001b[39m))\n\u001b[0;32m      3\u001b[0m df1\u001b[38;5;241m=\u001b[39mscaler\u001b[38;5;241m.\u001b[39mfit_transform(np\u001b[38;5;241m.\u001b[39marray(df1)\u001b[38;5;241m.\u001b[39mreshape(\u001b[38;5;241m-\u001b[39m\u001b[38;5;241m1\u001b[39m,\u001b[38;5;241m1\u001b[39m))\n",
      "\u001b[1;31mNameError\u001b[0m: name 'MinMax' is not defined"
     ]
    }
   ],
   "source": [
    "from sklearn.preprocessing import MinMaxScaler\n",
    "scaler=MinMax(feature_range=(0,1))\n",
    "df1=scaler.fit_transform(np.array(df1).reshape(-1,1))"
   ]
  },
  {
   "cell_type": "code",
   "execution_count": 15,
   "id": "d56dc29d",
   "metadata": {},
   "outputs": [
    {
     "ename": "SyntaxError",
     "evalue": "invalid syntax (1203160093.py, line 1)",
     "output_type": "error",
     "traceback": [
      "\u001b[1;36m  Cell \u001b[1;32mIn[15], line 1\u001b[1;36m\u001b[0m\n\u001b[1;33m    import scikit learn as sklearn\u001b[0m\n\u001b[1;37m                  ^\u001b[0m\n\u001b[1;31mSyntaxError\u001b[0m\u001b[1;31m:\u001b[0m invalid syntax\n"
     ]
    }
   ],
   "source": [
    "import scikit learn as sklearn"
   ]
  },
  {
   "cell_type": "code",
   "execution_count": 16,
   "id": "d8b39e3f",
   "metadata": {},
   "outputs": [],
   "source": [
    "from sklearn.preprocessing import MinMaxScaler\n",
    "scaler=MinMaxScaler(feature_range=(0,1))\n",
    "df1=scaler.fit_transform(np.array(df1).reshape(-1,1))\n"
   ]
  },
  {
   "cell_type": "code",
   "execution_count": 17,
   "id": "032c9c8a",
   "metadata": {},
   "outputs": [
    {
     "data": {
      "text/plain": [
       "array([[0.02698372],\n",
       "       [0.02733443],\n",
       "       [0.02271575],\n",
       "       ...,\n",
       "       [0.98370509],\n",
       "       [1.        ],\n",
       "       [0.99586153]])"
      ]
     },
     "execution_count": 17,
     "metadata": {},
     "output_type": "execute_result"
    }
   ],
   "source": [
    "df1"
   ]
  },
  {
   "cell_type": "code",
   "execution_count": 18,
   "id": "1823ed56",
   "metadata": {},
   "outputs": [],
   "source": [
    "training_size=int(len(df1)*0.65)\n",
    "test_size=len(df1)-training_size\n",
    "train_data,test_data=df1[0:training_size,:],df1[training_size:len(df1),:1]"
   ]
  },
  {
   "cell_type": "code",
   "execution_count": 19,
   "id": "e04f5a7a",
   "metadata": {},
   "outputs": [
    {
     "data": {
      "text/plain": [
       "(817, 441)"
      ]
     },
     "execution_count": 19,
     "metadata": {},
     "output_type": "execute_result"
    }
   ],
   "source": [
    "training_size,test_size"
   ]
  },
  {
   "cell_type": "code",
   "execution_count": 20,
   "id": "07346a1f",
   "metadata": {},
   "outputs": [],
   "source": [
    "import numpy \n",
    "def create_dataset(dataset, time_step=1):\n",
    "    dataX, dataY = [], []\n",
    "    for i in range(len(dataset)-time_step-1):\n",
    "        a = dataset[i:(i + time_step), 0]\n",
    "        dataX.append(a)\n",
    "        dataY.append(dataset[i + time_step, 0])\n",
    "    return numpy.array(dataX), numpy.array(dataY)"
   ]
  },
  {
   "cell_type": "code",
   "execution_count": 21,
   "id": "42d4cb82",
   "metadata": {},
   "outputs": [],
   "source": [
    "time_step = 100\n",
    "X_train, y_train = create_dataset(train_data, time_step)\n",
    "X_test, ytest = create_dataset(test_data, time_step)\n"
   ]
  },
  {
   "cell_type": "code",
   "execution_count": 22,
   "id": "ad8737b3",
   "metadata": {},
   "outputs": [
    {
     "name": "stdout",
     "output_type": "stream",
     "text": [
      "(716, 100)\n",
      "(716,)\n"
     ]
    },
    {
     "data": {
      "text/plain": [
       "(None, None)"
      ]
     },
     "execution_count": 22,
     "metadata": {},
     "output_type": "execute_result"
    }
   ],
   "source": [
    "print(X_train.shape), print(y_train.shape)"
   ]
  },
  {
   "cell_type": "code",
   "execution_count": 23,
   "id": "464a2f8a",
   "metadata": {},
   "outputs": [
    {
     "name": "stdout",
     "output_type": "stream",
     "text": [
      "(340, 100)\n",
      "(340,)\n"
     ]
    },
    {
     "data": {
      "text/plain": [
       "(None, None)"
      ]
     },
     "execution_count": 23,
     "metadata": {},
     "output_type": "execute_result"
    }
   ],
   "source": [
    "print(X_test.shape), print(ytest.shape)"
   ]
  },
  {
   "cell_type": "code",
   "execution_count": 48,
   "id": "4812aa0e",
   "metadata": {},
   "outputs": [
    {
     "data": {
      "text/plain": [
       "(340, 100, 1)"
      ]
     },
     "execution_count": 48,
     "metadata": {},
     "output_type": "execute_result"
    }
   ],
   "source": [
    "X_test.shape"
   ]
  },
  {
   "cell_type": "code",
   "execution_count": 49,
   "id": "2f59a7ae",
   "metadata": {},
   "outputs": [
    {
     "data": {
      "text/plain": [
       "(340,)"
      ]
     },
     "execution_count": 49,
     "metadata": {},
     "output_type": "execute_result"
    }
   ],
   "source": [
    "ytest.shape"
   ]
  },
  {
   "cell_type": "code",
   "execution_count": 24,
   "id": "5eb653c8",
   "metadata": {},
   "outputs": [],
   "source": [
    "X_train =X_train.reshape(X_train.shape[0],X_train.shape[1] , 1)\n",
    "X_test =X_test.reshape(X_test.shape[0],X_test.shape[1] , 1)"
   ]
  },
  {
   "cell_type": "code",
   "execution_count": 27,
   "id": "c30b075f",
   "metadata": {},
   "outputs": [],
   "source": [
    "from tensorflow.keras.models import Sequential\n",
    "from tensorflow.keras.layers import Dense\n",
    "from tensorflow.keras.layers import LSTM"
   ]
  },
  {
   "cell_type": "code",
   "execution_count": 66,
   "id": "2b11b342",
   "metadata": {},
   "outputs": [
    {
     "name": "stdout",
     "output_type": "stream",
     "text": [
      "Epoch 1/100\n",
      "11/11 [==============================] - 7s 156ms/step - loss: 24082.8242\n",
      "Epoch 2/100\n",
      "11/11 [==============================] - 2s 151ms/step - loss: 0.1158\n",
      "Epoch 3/100\n",
      "11/11 [==============================] - 1s 124ms/step - loss: 0.1000\n",
      "Epoch 4/100\n",
      "11/11 [==============================] - 2s 138ms/step - loss: 0.0852\n",
      "Epoch 5/100\n",
      "11/11 [==============================] - 2s 155ms/step - loss: 0.0714\n",
      "Epoch 6/100\n",
      "11/11 [==============================] - 2s 156ms/step - loss: 0.0590\n",
      "Epoch 7/100\n",
      "11/11 [==============================] - 2s 157ms/step - loss: 0.0500\n",
      "Epoch 8/100\n",
      "11/11 [==============================] - 2s 152ms/step - loss: 0.0456\n",
      "Epoch 9/100\n",
      "11/11 [==============================] - 2s 155ms/step - loss: 0.0442\n",
      "Epoch 10/100\n",
      "11/11 [==============================] - 2s 156ms/step - loss: 0.0432\n",
      "Epoch 11/100\n",
      "11/11 [==============================] - 2s 154ms/step - loss: 0.0430\n",
      "Epoch 12/100\n",
      "11/11 [==============================] - 2s 145ms/step - loss: 0.0422\n",
      "Epoch 13/100\n",
      "11/11 [==============================] - 1s 133ms/step - loss: 0.0416\n",
      "Epoch 14/100\n",
      "11/11 [==============================] - 2s 141ms/step - loss: 0.0422\n",
      "Epoch 15/100\n",
      "11/11 [==============================] - 2s 152ms/step - loss: 0.0412\n",
      "Epoch 16/100\n",
      "11/11 [==============================] - 2s 152ms/step - loss: 0.0412\n",
      "Epoch 17/100\n",
      "11/11 [==============================] - 2s 154ms/step - loss: 0.0413\n",
      "Epoch 18/100\n",
      "11/11 [==============================] - 2s 153ms/step - loss: 0.0410\n",
      "Epoch 19/100\n",
      "11/11 [==============================] - 2s 154ms/step - loss: 0.0405\n",
      "Epoch 20/100\n",
      "11/11 [==============================] - 2s 153ms/step - loss: 0.0410\n",
      "Epoch 21/100\n",
      "11/11 [==============================] - 2s 152ms/step - loss: 0.0401\n",
      "Epoch 22/100\n",
      "11/11 [==============================] - 2s 136ms/step - loss: 0.0408\n",
      "Epoch 23/100\n",
      "11/11 [==============================] - 1s 134ms/step - loss: 0.0405\n",
      "Epoch 24/100\n",
      "11/11 [==============================] - 2s 147ms/step - loss: 0.0410\n",
      "Epoch 25/100\n",
      "11/11 [==============================] - 2s 161ms/step - loss: 0.0411\n",
      "Epoch 26/100\n",
      "11/11 [==============================] - 2s 156ms/step - loss: 0.0427\n",
      "Epoch 27/100\n",
      "11/11 [==============================] - 2s 158ms/step - loss: 0.0494\n",
      "Epoch 28/100\n",
      "11/11 [==============================] - 2s 154ms/step - loss: 0.0483\n",
      "Epoch 29/100\n",
      "11/11 [==============================] - 2s 153ms/step - loss: 0.0540\n",
      "Epoch 30/100\n",
      "11/11 [==============================] - 2s 142ms/step - loss: 0.0494\n",
      "Epoch 31/100\n",
      "11/11 [==============================] - 2s 155ms/step - loss: 0.0588\n",
      "Epoch 32/100\n",
      "11/11 [==============================] - 1s 124ms/step - loss: 0.0605\n",
      "Epoch 33/100\n",
      "11/11 [==============================] - 1s 132ms/step - loss: 0.0584\n",
      "Epoch 34/100\n",
      "11/11 [==============================] - 2s 145ms/step - loss: 0.0492\n",
      "Epoch 35/100\n",
      "11/11 [==============================] - 1s 134ms/step - loss: 0.0562\n",
      "Epoch 36/100\n",
      "11/11 [==============================] - 2s 157ms/step - loss: 0.0514\n",
      "Epoch 37/100\n",
      "11/11 [==============================] - 2s 153ms/step - loss: 0.0461\n",
      "Epoch 38/100\n",
      "11/11 [==============================] - 2s 149ms/step - loss: 0.0528\n",
      "Epoch 39/100\n",
      "11/11 [==============================] - 1s 136ms/step - loss: 0.0515\n",
      "Epoch 40/100\n",
      "11/11 [==============================] - 2s 145ms/step - loss: 0.0499\n",
      "Epoch 41/100\n",
      "11/11 [==============================] - 2s 148ms/step - loss: 0.0514\n",
      "Epoch 42/100\n",
      "11/11 [==============================] - 1s 130ms/step - loss: 0.0432\n",
      "Epoch 43/100\n",
      "11/11 [==============================] - 1s 134ms/step - loss: 0.0522\n",
      "Epoch 44/100\n",
      "11/11 [==============================] - 2s 154ms/step - loss: 0.0471\n",
      "Epoch 45/100\n",
      "11/11 [==============================] - 2s 160ms/step - loss: 0.0454\n",
      "Epoch 46/100\n",
      "11/11 [==============================] - 2s 161ms/step - loss: 0.0445\n",
      "Epoch 47/100\n",
      "11/11 [==============================] - 2s 155ms/step - loss: 0.0443\n",
      "Epoch 48/100\n",
      "11/11 [==============================] - 2s 154ms/step - loss: 0.0516\n",
      "Epoch 49/100\n",
      "11/11 [==============================] - 2s 159ms/step - loss: 0.0393\n",
      "Epoch 50/100\n",
      "11/11 [==============================] - 2s 159ms/step - loss: 0.0522\n",
      "Epoch 51/100\n",
      "11/11 [==============================] - 2s 152ms/step - loss: 0.0388\n",
      "Epoch 52/100\n",
      "11/11 [==============================] - 1s 131ms/step - loss: 0.0462\n",
      "Epoch 53/100\n",
      "11/11 [==============================] - 2s 139ms/step - loss: 0.0435\n",
      "Epoch 54/100\n",
      "11/11 [==============================] - 2s 161ms/step - loss: 0.0394\n",
      "Epoch 55/100\n",
      "11/11 [==============================] - 2s 159ms/step - loss: 0.0445\n",
      "Epoch 56/100\n",
      "11/11 [==============================] - 2s 163ms/step - loss: 0.0429\n",
      "Epoch 57/100\n",
      "11/11 [==============================] - 2s 159ms/step - loss: 0.0442\n",
      "Epoch 58/100\n",
      "11/11 [==============================] - 2s 158ms/step - loss: 0.0412\n",
      "Epoch 59/100\n",
      "11/11 [==============================] - 2s 158ms/step - loss: 0.0443\n",
      "Epoch 60/100\n",
      "11/11 [==============================] - 2s 157ms/step - loss: 0.0430\n",
      "Epoch 61/100\n",
      "11/11 [==============================] - 1s 130ms/step - loss: 0.0443\n",
      "Epoch 62/100\n",
      "11/11 [==============================] - 1s 136ms/step - loss: 0.0367\n",
      "Epoch 63/100\n",
      "11/11 [==============================] - 2s 157ms/step - loss: 0.0417\n",
      "Epoch 64/100\n",
      "11/11 [==============================] - 2s 159ms/step - loss: 0.0404\n",
      "Epoch 65/100\n",
      "11/11 [==============================] - 2s 160ms/step - loss: 0.0365\n",
      "Epoch 66/100\n",
      "11/11 [==============================] - 2s 157ms/step - loss: 0.0434\n",
      "Epoch 67/100\n",
      "11/11 [==============================] - 2s 157ms/step - loss: 0.0405\n",
      "Epoch 68/100\n",
      "11/11 [==============================] - 2s 157ms/step - loss: 0.0383\n",
      "Epoch 69/100\n",
      "11/11 [==============================] - 2s 156ms/step - loss: 0.0377\n",
      "Epoch 70/100\n",
      "11/11 [==============================] - 2s 150ms/step - loss: 0.0357\n",
      "Epoch 71/100\n",
      "11/11 [==============================] - 1s 131ms/step - loss: 0.0404\n",
      "Epoch 72/100\n",
      "11/11 [==============================] - 2s 141ms/step - loss: 0.0381\n",
      "Epoch 73/100\n",
      "11/11 [==============================] - 2s 156ms/step - loss: 0.0395\n",
      "Epoch 74/100\n",
      "11/11 [==============================] - 2s 158ms/step - loss: 0.0403\n",
      "Epoch 75/100\n",
      "11/11 [==============================] - 2s 158ms/step - loss: 0.0371\n",
      "Epoch 76/100\n",
      "11/11 [==============================] - 2s 157ms/step - loss: 0.0372\n",
      "Epoch 77/100\n",
      "11/11 [==============================] - 2s 156ms/step - loss: 0.0380\n",
      "Epoch 78/100\n",
      "11/11 [==============================] - 2s 157ms/step - loss: 0.0408\n",
      "Epoch 79/100\n",
      "11/11 [==============================] - 2s 161ms/step - loss: 0.0339\n",
      "Epoch 80/100\n",
      "11/11 [==============================] - 2s 138ms/step - loss: 0.0371\n",
      "Epoch 81/100\n",
      "11/11 [==============================] - 1s 133ms/step - loss: 0.0397\n",
      "Epoch 82/100\n",
      "11/11 [==============================] - 2s 149ms/step - loss: 0.0394\n",
      "Epoch 83/100\n",
      "11/11 [==============================] - 2s 161ms/step - loss: 0.0385\n",
      "Epoch 84/100\n",
      "11/11 [==============================] - 2s 158ms/step - loss: 0.0363\n",
      "Epoch 85/100\n",
      "11/11 [==============================] - 2s 151ms/step - loss: 0.0386\n",
      "Epoch 86/100\n",
      "11/11 [==============================] - 2s 157ms/step - loss: 0.0355\n",
      "Epoch 87/100\n",
      "11/11 [==============================] - 2s 155ms/step - loss: 0.0383\n",
      "Epoch 88/100\n",
      "11/11 [==============================] - 2s 157ms/step - loss: 0.0301\n",
      "Epoch 89/100\n",
      "11/11 [==============================] - 2s 155ms/step - loss: 0.0378\n",
      "Epoch 90/100\n",
      "11/11 [==============================] - 1s 125ms/step - loss: 0.0334\n",
      "Epoch 91/100\n",
      "11/11 [==============================] - 1s 137ms/step - loss: 0.0351\n",
      "Epoch 92/100\n",
      "11/11 [==============================] - 2s 140ms/step - loss: 0.0365\n",
      "Epoch 93/100\n",
      "11/11 [==============================] - 2s 141ms/step - loss: 0.0292\n",
      "Epoch 94/100\n",
      "11/11 [==============================] - 2s 147ms/step - loss: 0.0356\n",
      "Epoch 95/100\n",
      "11/11 [==============================] - 2s 149ms/step - loss: 0.0308\n",
      "Epoch 96/100\n",
      "11/11 [==============================] - 2s 142ms/step - loss: 0.0367\n",
      "Epoch 97/100\n",
      "11/11 [==============================] - 2s 155ms/step - loss: 0.0348\n",
      "Epoch 98/100\n",
      "11/11 [==============================] - 2s 161ms/step - loss: 0.0342\n",
      "Epoch 99/100\n"
     ]
    },
    {
     "name": "stdout",
     "output_type": "stream",
     "text": [
      "11/11 [==============================] - 2s 161ms/step - loss: 0.0321\n",
      "Epoch 100/100\n",
      "11/11 [==============================] - 1s 130ms/step - loss: 0.0331\n"
     ]
    },
    {
     "data": {
      "text/plain": [
       "<keras.callbacks.History at 0x29306f2a3e0>"
      ]
     },
     "execution_count": 66,
     "metadata": {},
     "output_type": "execute_result"
    }
   ],
   "source": [
    "model=Sequential()\n",
    "model.add(LSTM(50, activation='relu', return_sequences=True,input_shape=(100,1)))\n",
    "model.add(LSTM(50,activation='relu'))\n",
    "model.add(Dense(1))\n",
    "model.compile(loss='mae',optimizer='rmsprop')\n",
    "model.fit(X_test, ytest, epochs=100, verbose=1)"
   ]
  },
  {
   "cell_type": "code",
   "execution_count": 43,
   "id": "bfeddcf6",
   "metadata": {
    "scrolled": true
   },
   "outputs": [
    {
     "name": "stdout",
     "output_type": "stream",
     "text": [
      "Model: \"sequential_4\"\n",
      "_________________________________________________________________\n",
      " Layer (type)                Output Shape              Param #   \n",
      "=================================================================\n",
      " lstm_9 (LSTM)               (None, 100, 50)           10400     \n",
      "                                                                 \n",
      " lstm_10 (LSTM)              (None, 100, 50)           20200     \n",
      "                                                                 \n",
      " lstm_11 (LSTM)              (None, 50)                20200     \n",
      "                                                                 \n",
      " dense_3 (Dense)             (None, 1)                 51        \n",
      "                                                                 \n",
      "=================================================================\n",
      "Total params: 50,851\n",
      "Trainable params: 50,851\n",
      "Non-trainable params: 0\n",
      "_________________________________________________________________\n"
     ]
    }
   ],
   "source": [
    "model.summary()"
   ]
  },
  {
   "cell_type": "code",
   "execution_count": 69,
   "id": "08eda7b8",
   "metadata": {},
   "outputs": [
    {
     "name": "stdout",
     "output_type": "stream",
     "text": [
      "23/23 [==============================] - 1s 20ms/step\n",
      "11/11 [==============================] - 0s 18ms/step\n"
     ]
    }
   ],
   "source": [
    "train_predict=model.predict(X_train)\n",
    "test_predict=model.predict(X_test)"
   ]
  },
  {
   "cell_type": "code",
   "execution_count": 70,
   "id": "90e46379",
   "metadata": {},
   "outputs": [],
   "source": [
    "train_presict=scaler.inverse_transform(train_predict)\n",
    "test_predict=scaler.inverse_transform(test_predict)"
   ]
  },
  {
   "cell_type": "code",
   "execution_count": 71,
   "id": "e3b2b3be",
   "metadata": {},
   "outputs": [
    {
     "data": {
      "text/plain": [
       "0.05244140237755571"
      ]
     },
     "execution_count": 71,
     "metadata": {},
     "output_type": "execute_result"
    }
   ],
   "source": [
    "import math\n",
    "from sklearn.metrics import mean_squared_error\n",
    "math.sqrt(mean_squared_error(y_train,train_predict))"
   ]
  },
  {
   "cell_type": "code",
   "execution_count": 72,
   "id": "15bf1c24",
   "metadata": {},
   "outputs": [
    {
     "data": {
      "text/plain": [
       "1776.1612709638853"
      ]
     },
     "execution_count": 72,
     "metadata": {},
     "output_type": "execute_result"
    }
   ],
   "source": [
    "math.sqrt(mean_squared_error(ytest,test_predict))"
   ]
  },
  {
   "cell_type": "code",
   "execution_count": 81,
   "id": "e638dadd",
   "metadata": {},
   "outputs": [
    {
     "data": {
      "image/png": "[encoded data removed]",
      "text/plain": [
       "<Figure size 640x480 with 1 Axes>"
      ]
     },
     "metadata": {},
     "output_type": "display_data"
    }
   ],
   "source": [
    "look_back=100\n",
    "trainpredictPlot = numpy.empty_like(df1)\n",
    "trainpredictPlot[:, :] = np.nan\n",
    "trainpredictPlot[look_back:len(train_predict)+look_back, :] = train_predict\n",
    "trainpredictPlot = numpy.empty_like(df1)\n",
    "trainpredictPlot[:, :] = numpy.nan\n",
    "trainpredictPlot[len(train_predict)+(look_back*2)+1:len(df1)-1, :] = test_predict\n",
    "plt.plot(scaler.inverse_transform(df1))\n",
    "plt.plot(trainpredictPlot)\n",
    "plt.plot(trainpredictPlot)\n",
    "plt.show()"
   ]
  },
  {
   "cell_type": "code",
   "execution_count": 82,
   "id": "47da8295",
   "metadata": {},
   "outputs": [
    {
     "data": {
      "text/plain": [
       "441"
      ]
     },
     "execution_count": 82,
     "metadata": {},
     "output_type": "execute_result"
    }
   ],
   "source": [
    "len(test_data)"
   ]
  },
  {
   "cell_type": "code",
   "execution_count": 102,
   "id": "335b1fdc",
   "metadata": {},
   "outputs": [
    {
     "data": {
      "text/plain": [
       "(1, 100)"
      ]
     },
     "execution_count": 102,
     "metadata": {},
     "output_type": "execute_result"
    }
   ],
   "source": [
    "x_input=test_data[341:].reshape(1,-1)\n",
    "x_input.shape"
   ]
  },
  {
   "cell_type": "code",
   "execution_count": 103,
   "id": "93f17ef8",
   "metadata": {},
   "outputs": [],
   "source": [
    "temp_input=list(x_input)\n",
    "temp_input=temp_input[0].tolist()"
   ]
  },
  {
   "cell_type": "code",
   "execution_count": 107,
   "id": "fa70b0a5",
   "metadata": {},
   "outputs": [
    {
     "name": "stdout",
     "output_type": "stream",
     "text": [
      "0 day input [0.65988432 0.66517207 0.66428178 0.67390765 0.62726213 0.64470092\n",
      " 0.62993299 0.66533394 0.67944899 0.75636958 0.75221492 0.77143967\n",
      " 0.76869328 0.76362135 0.77002601 0.77030119 0.77473642 0.78433531\n",
      " 0.78779393 0.78179935 0.77313391 0.75356923 0.75679584 0.7699127\n",
      " 0.73548297 0.73845058 0.76254222 0.75948288 0.73297398 0.74504948\n",
      " 0.7771267  0.73160348 0.74699731 0.7482545  0.7804882  0.75197212\n",
      " 0.75443793 0.76848285 0.76770587 0.73810526 0.74187143 0.73938403\n",
      " 0.7471376  0.74287503 0.74249733 0.73774375 0.7487509  0.74852968\n",
      " 0.75559261 0.79288744 0.84026137 0.83982971 0.8532811  0.86178467\n",
      " 0.87281341 0.85603829 0.86277208 0.85606527 0.87862993 0.87922346\n",
      " 0.88172704 0.87699505 0.87681159 0.86312279 0.88868745 0.89486009\n",
      " 0.8842738  0.92354884 0.95051637 0.93984914 0.93178262 0.90970356\n",
      " 0.91104708 0.92432581 0.93368189 0.90291042 0.88515869 0.8475617\n",
      " 0.85991237 0.88915148 0.8919842  0.8822828  0.88513171 0.91069636\n",
      " 0.90476653 0.93798763 0.93928259 0.95248039 0.93574304 0.94062611\n",
      " 0.9504732  0.9458707  0.93687613 0.96231668 0.97004867 0.9790918\n",
      " 0.98370509 1.         0.99586153 0.98280883]\n",
      "0 day output [[0.9871485]]\n",
      "1 day input [0.66517207 0.66428178 0.67390765 0.62726213 0.64470092 0.62993299\n",
      " 0.66533394 0.67944899 0.75636958 0.75221492 0.77143967 0.76869328\n",
      " 0.76362135 0.77002601 0.77030119 0.77473642 0.78433531 0.78779393\n",
      " 0.78179935 0.77313391 0.75356923 0.75679584 0.7699127  0.73548297\n",
      " 0.73845058 0.76254222 0.75948288 0.73297398 0.74504948 0.7771267\n",
      " 0.73160348 0.74699731 0.7482545  0.7804882  0.75197212 0.75443793\n",
      " 0.76848285 0.76770587 0.73810526 0.74187143 0.73938403 0.7471376\n",
      " 0.74287503 0.74249733 0.73774375 0.7487509  0.74852968 0.75559261\n",
      " 0.79288744 0.84026137 0.83982971 0.8532811  0.86178467 0.87281341\n",
      " 0.85603829 0.86277208 0.85606527 0.87862993 0.87922346 0.88172704\n",
      " 0.87699505 0.87681159 0.86312279 0.88868745 0.89486009 0.8842738\n",
      " 0.92354884 0.95051637 0.93984914 0.93178262 0.90970356 0.91104708\n",
      " 0.92432581 0.93368189 0.90291042 0.88515869 0.8475617  0.85991237\n",
      " 0.88915148 0.8919842  0.8822828  0.88513171 0.91069636 0.90476653\n",
      " 0.93798763 0.93928259 0.95248039 0.93574304 0.94062611 0.9504732\n",
      " 0.9458707  0.93687613 0.96231668 0.97004867 0.9790918  0.98370509\n",
      " 1.         0.99586153 0.98280883 0.98714852]\n",
      "1 day output [[0.99093914]]\n",
      "2 day input [0.66428178 0.67390765 0.62726213 0.64470092 0.62993299 0.66533394\n",
      " 0.67944899 0.75636958 0.75221492 0.77143967 0.76869328 0.76362135\n",
      " 0.77002601 0.77030119 0.77473642 0.78433531 0.78779393 0.78179935\n",
      " 0.77313391 0.75356923 0.75679584 0.7699127  0.73548297 0.73845058\n",
      " 0.76254222 0.75948288 0.73297398 0.74504948 0.7771267  0.73160348\n",
      " 0.74699731 0.7482545  0.7804882  0.75197212 0.75443793 0.76848285\n",
      " 0.76770587 0.73810526 0.74187143 0.73938403 0.7471376  0.74287503\n",
      " 0.74249733 0.73774375 0.7487509  0.74852968 0.75559261 0.79288744\n",
      " 0.84026137 0.83982971 0.8532811  0.86178467 0.87281341 0.85603829\n",
      " 0.86277208 0.85606527 0.87862993 0.87922346 0.88172704 0.87699505\n",
      " 0.87681159 0.86312279 0.88868745 0.89486009 0.8842738  0.92354884\n",
      " 0.95051637 0.93984914 0.93178262 0.90970356 0.91104708 0.92432581\n",
      " 0.93368189 0.90291042 0.88515869 0.8475617  0.85991237 0.88915148\n",
      " 0.8919842  0.8822828  0.88513171 0.91069636 0.90476653 0.93798763\n",
      " 0.93928259 0.95248039 0.93574304 0.94062611 0.9504732  0.9458707\n",
      " 0.93687613 0.96231668 0.97004867 0.9790918  0.98370509 1.\n",
      " 0.99586153 0.98280883 0.98714852 0.99093914]\n",
      "2 day output [[0.99435157]]\n",
      "3 day input [0.67390765 0.62726213 0.64470092 0.62993299 0.66533394 0.67944899\n",
      " 0.75636958 0.75221492 0.77143967 0.76869328 0.76362135 0.77002601\n",
      " 0.77030119 0.77473642 0.78433531 0.78779393 0.78179935 0.77313391\n",
      " 0.75356923 0.75679584 0.7699127  0.73548297 0.73845058 0.76254222\n",
      " 0.75948288 0.73297398 0.74504948 0.7771267  0.73160348 0.74699731\n",
      " 0.7482545  0.7804882  0.75197212 0.75443793 0.76848285 0.76770587\n",
      " 0.73810526 0.74187143 0.73938403 0.7471376  0.74287503 0.74249733\n",
      " 0.73774375 0.7487509  0.74852968 0.75559261 0.79288744 0.84026137\n",
      " 0.83982971 0.8532811  0.86178467 0.87281341 0.85603829 0.86277208\n",
      " 0.85606527 0.87862993 0.87922346 0.88172704 0.87699505 0.87681159\n",
      " 0.86312279 0.88868745 0.89486009 0.8842738  0.92354884 0.95051637\n",
      " 0.93984914 0.93178262 0.90970356 0.91104708 0.92432581 0.93368189\n",
      " 0.90291042 0.88515869 0.8475617  0.85991237 0.88915148 0.8919842\n",
      " 0.8822828  0.88513171 0.91069636 0.90476653 0.93798763 0.93928259\n",
      " 0.95248039 0.93574304 0.94062611 0.9504732  0.9458707  0.93687613\n",
      " 0.96231668 0.97004867 0.9790918  0.98370509 1.         0.99586153\n",
      " 0.98280883 0.98714852 0.99093914 0.99435157]\n",
      "3 day output [[0.997506]]\n",
      "4 day input [0.62726213 0.64470092 0.62993299 0.66533394 0.67944899 0.75636958\n",
      " 0.75221492 0.77143967 0.76869328 0.76362135 0.77002601 0.77030119\n",
      " 0.77473642 0.78433531 0.78779393 0.78179935 0.77313391 0.75356923\n",
      " 0.75679584 0.7699127  0.73548297 0.73845058 0.76254222 0.75948288\n",
      " 0.73297398 0.74504948 0.7771267  0.73160348 0.74699731 0.7482545\n",
      " 0.7804882  0.75197212 0.75443793 0.76848285 0.76770587 0.73810526\n",
      " 0.74187143 0.73938403 0.7471376  0.74287503 0.74249733 0.73774375\n",
      " 0.7487509  0.74852968 0.75559261 0.79288744 0.84026137 0.83982971\n",
      " 0.8532811  0.86178467 0.87281341 0.85603829 0.86277208 0.85606527\n",
      " 0.87862993 0.87922346 0.88172704 0.87699505 0.87681159 0.86312279\n",
      " 0.88868745 0.89486009 0.8842738  0.92354884 0.95051637 0.93984914\n",
      " 0.93178262 0.90970356 0.91104708 0.92432581 0.93368189 0.90291042\n",
      " 0.88515869 0.8475617  0.85991237 0.88915148 0.8919842  0.8822828\n",
      " 0.88513171 0.91069636 0.90476653 0.93798763 0.93928259 0.95248039\n",
      " 0.93574304 0.94062611 0.9504732  0.9458707  0.93687613 0.96231668\n",
      " 0.97004867 0.9790918  0.98370509 1.         0.99586153 0.98280883\n",
      " 0.98714852 0.99093914 0.99435157 0.99750602]\n",
      "4 day output [[1.0004805]]\n",
      "5 day input [0.64470092 0.62993299 0.66533394 0.67944899 0.75636958 0.75221492\n",
      " 0.77143967 0.76869328 0.76362135 0.77002601 0.77030119 0.77473642\n",
      " 0.78433531 0.78779393 0.78179935 0.77313391 0.75356923 0.75679584\n",
      " 0.7699127  0.73548297 0.73845058 0.76254222 0.75948288 0.73297398\n",
      " 0.74504948 0.7771267  0.73160348 0.74699731 0.7482545  0.7804882\n",
      " 0.75197212 0.75443793 0.76848285 0.76770587 0.73810526 0.74187143\n",
      " 0.73938403 0.7471376  0.74287503 0.74249733 0.73774375 0.7487509\n",
      " 0.74852968 0.75559261 0.79288744 0.84026137 0.83982971 0.8532811\n",
      " 0.86178467 0.87281341 0.85603829 0.86277208 0.85606527 0.87862993\n",
      " 0.87922346 0.88172704 0.87699505 0.87681159 0.86312279 0.88868745\n",
      " 0.89486009 0.8842738  0.92354884 0.95051637 0.93984914 0.93178262\n",
      " 0.90970356 0.91104708 0.92432581 0.93368189 0.90291042 0.88515869\n",
      " 0.8475617  0.85991237 0.88915148 0.8919842  0.8822828  0.88513171\n",
      " 0.91069636 0.90476653 0.93798763 0.93928259 0.95248039 0.93574304\n",
      " 0.94062611 0.9504732  0.9458707  0.93687613 0.96231668 0.97004867\n",
      " 0.9790918  0.98370509 1.         0.99586153 0.98280883 0.98714852\n",
      " 0.99093914 0.99435157 0.99750602 1.00048053]\n",
      "5 day output [[1.0033258]]\n",
      "6 day input [0.62993299 0.66533394 0.67944899 0.75636958 0.75221492 0.77143967\n",
      " 0.76869328 0.76362135 0.77002601 0.77030119 0.77473642 0.78433531\n",
      " 0.78779393 0.78179935 0.77313391 0.75356923 0.75679584 0.7699127\n",
      " 0.73548297 0.73845058 0.76254222 0.75948288 0.73297398 0.74504948\n",
      " 0.7771267  0.73160348 0.74699731 0.7482545  0.7804882  0.75197212\n",
      " 0.75443793 0.76848285 0.76770587 0.73810526 0.74187143 0.73938403\n",
      " 0.7471376  0.74287503 0.74249733 0.73774375 0.7487509  0.74852968\n",
      " 0.75559261 0.79288744 0.84026137 0.83982971 0.8532811  0.86178467\n",
      " 0.87281341 0.85603829 0.86277208 0.85606527 0.87862993 0.87922346\n",
      " 0.88172704 0.87699505 0.87681159 0.86312279 0.88868745 0.89486009\n",
      " 0.8842738  0.92354884 0.95051637 0.93984914 0.93178262 0.90970356\n",
      " 0.91104708 0.92432581 0.93368189 0.90291042 0.88515869 0.8475617\n",
      " 0.85991237 0.88915148 0.8919842  0.8822828  0.88513171 0.91069636\n",
      " 0.90476653 0.93798763 0.93928259 0.95248039 0.93574304 0.94062611\n",
      " 0.9504732  0.9458707  0.93687613 0.96231668 0.97004867 0.9790918\n",
      " 0.98370509 1.         0.99586153 0.98280883 0.98714852 0.99093914\n",
      " 0.99435157 0.99750602 1.00048053 1.00332582]\n",
      "6 day output [[1.0060751]]\n",
      "7 day input [0.66533394 0.67944899 0.75636958 0.75221492 0.77143967 0.76869328\n",
      " 0.76362135 0.77002601 0.77030119 0.77473642 0.78433531 0.78779393\n",
      " 0.78179935 0.77313391 0.75356923 0.75679584 0.7699127  0.73548297\n",
      " 0.73845058 0.76254222 0.75948288 0.73297398 0.74504948 0.7771267\n",
      " 0.73160348 0.74699731 0.7482545  0.7804882  0.75197212 0.75443793\n",
      " 0.76848285 0.76770587 0.73810526 0.74187143 0.73938403 0.7471376\n",
      " 0.74287503 0.74249733 0.73774375 0.7487509  0.74852968 0.75559261\n",
      " 0.79288744 0.84026137 0.83982971 0.8532811  0.86178467 0.87281341\n",
      " 0.85603829 0.86277208 0.85606527 0.87862993 0.87922346 0.88172704\n",
      " 0.87699505 0.87681159 0.86312279 0.88868745 0.89486009 0.8842738\n",
      " 0.92354884 0.95051637 0.93984914 0.93178262 0.90970356 0.91104708\n",
      " 0.92432581 0.93368189 0.90291042 0.88515869 0.8475617  0.85991237\n",
      " 0.88915148 0.8919842  0.8822828  0.88513171 0.91069636 0.90476653\n",
      " 0.93798763 0.93928259 0.95248039 0.93574304 0.94062611 0.9504732\n",
      " 0.9458707  0.93687613 0.96231668 0.97004867 0.9790918  0.98370509\n",
      " 1.         0.99586153 0.98280883 0.98714852 0.99093914 0.99435157\n",
      " 0.99750602 1.00048053 1.00332582 1.00607514]\n",
      "7 day output [[1.0087498]]\n",
      "8 day input [0.67944899 0.75636958 0.75221492 0.77143967 0.76869328 0.76362135\n",
      " 0.77002601 0.77030119 0.77473642 0.78433531 0.78779393 0.78179935\n",
      " 0.77313391 0.75356923 0.75679584 0.7699127  0.73548297 0.73845058\n",
      " 0.76254222 0.75948288 0.73297398 0.74504948 0.7771267  0.73160348\n",
      " 0.74699731 0.7482545  0.7804882  0.75197212 0.75443793 0.76848285\n",
      " 0.76770587 0.73810526 0.74187143 0.73938403 0.7471376  0.74287503\n",
      " 0.74249733 0.73774375 0.7487509  0.74852968 0.75559261 0.79288744\n",
      " 0.84026137 0.83982971 0.8532811  0.86178467 0.87281341 0.85603829\n",
      " 0.86277208 0.85606527 0.87862993 0.87922346 0.88172704 0.87699505\n",
      " 0.87681159 0.86312279 0.88868745 0.89486009 0.8842738  0.92354884\n",
      " 0.95051637 0.93984914 0.93178262 0.90970356 0.91104708 0.92432581\n",
      " 0.93368189 0.90291042 0.88515869 0.8475617  0.85991237 0.88915148\n",
      " 0.8919842  0.8822828  0.88513171 0.91069636 0.90476653 0.93798763\n",
      " 0.93928259 0.95248039 0.93574304 0.94062611 0.9504732  0.9458707\n",
      " 0.93687613 0.96231668 0.97004867 0.9790918  0.98370509 1.\n",
      " 0.99586153 0.98280883 0.98714852 0.99093914 0.99435157 0.99750602\n",
      " 1.00048053 1.00332582 1.00607514 1.00874984]\n"
     ]
    },
    {
     "name": "stdout",
     "output_type": "stream",
     "text": [
      "8 day output [[1.0113636]]\n",
      "9 day input [0.75636958 0.75221492 0.77143967 0.76869328 0.76362135 0.77002601\n",
      " 0.77030119 0.77473642 0.78433531 0.78779393 0.78179935 0.77313391\n",
      " 0.75356923 0.75679584 0.7699127  0.73548297 0.73845058 0.76254222\n",
      " 0.75948288 0.73297398 0.74504948 0.7771267  0.73160348 0.74699731\n",
      " 0.7482545  0.7804882  0.75197212 0.75443793 0.76848285 0.76770587\n",
      " 0.73810526 0.74187143 0.73938403 0.7471376  0.74287503 0.74249733\n",
      " 0.73774375 0.7487509  0.74852968 0.75559261 0.79288744 0.84026137\n",
      " 0.83982971 0.8532811  0.86178467 0.87281341 0.85603829 0.86277208\n",
      " 0.85606527 0.87862993 0.87922346 0.88172704 0.87699505 0.87681159\n",
      " 0.86312279 0.88868745 0.89486009 0.8842738  0.92354884 0.95051637\n",
      " 0.93984914 0.93178262 0.90970356 0.91104708 0.92432581 0.93368189\n",
      " 0.90291042 0.88515869 0.8475617  0.85991237 0.88915148 0.8919842\n",
      " 0.8822828  0.88513171 0.91069636 0.90476653 0.93798763 0.93928259\n",
      " 0.95248039 0.93574304 0.94062611 0.9504732  0.9458707  0.93687613\n",
      " 0.96231668 0.97004867 0.9790918  0.98370509 1.         0.99586153\n",
      " 0.98280883 0.98714852 0.99093914 0.99435157 0.99750602 1.00048053\n",
      " 1.00332582 1.00607514 1.00874984 1.01136363]\n",
      "9 day output [[1.0139257]]\n",
      "10 day input [0.75221492 0.77143967 0.76869328 0.76362135 0.77002601 0.77030119\n",
      " 0.77473642 0.78433531 0.78779393 0.78179935 0.77313391 0.75356923\n",
      " 0.75679584 0.7699127  0.73548297 0.73845058 0.76254222 0.75948288\n",
      " 0.73297398 0.74504948 0.7771267  0.73160348 0.74699731 0.7482545\n",
      " 0.7804882  0.75197212 0.75443793 0.76848285 0.76770587 0.73810526\n",
      " 0.74187143 0.73938403 0.7471376  0.74287503 0.74249733 0.73774375\n",
      " 0.7487509  0.74852968 0.75559261 0.79288744 0.84026137 0.83982971\n",
      " 0.8532811  0.86178467 0.87281341 0.85603829 0.86277208 0.85606527\n",
      " 0.87862993 0.87922346 0.88172704 0.87699505 0.87681159 0.86312279\n",
      " 0.88868745 0.89486009 0.8842738  0.92354884 0.95051637 0.93984914\n",
      " 0.93178262 0.90970356 0.91104708 0.92432581 0.93368189 0.90291042\n",
      " 0.88515869 0.8475617  0.85991237 0.88915148 0.8919842  0.8822828\n",
      " 0.88513171 0.91069636 0.90476653 0.93798763 0.93928259 0.95248039\n",
      " 0.93574304 0.94062611 0.9504732  0.9458707  0.93687613 0.96231668\n",
      " 0.97004867 0.9790918  0.98370509 1.         0.99586153 0.98280883\n",
      " 0.98714852 0.99093914 0.99435157 0.99750602 1.00048053 1.00332582\n",
      " 1.00607514 1.00874984 1.01136363 1.01392567]\n",
      "10 day output [[1.0164423]]\n",
      "11 day input [0.77143967 0.76869328 0.76362135 0.77002601 0.77030119 0.77473642\n",
      " 0.78433531 0.78779393 0.78179935 0.77313391 0.75356923 0.75679584\n",
      " 0.7699127  0.73548297 0.73845058 0.76254222 0.75948288 0.73297398\n",
      " 0.74504948 0.7771267  0.73160348 0.74699731 0.7482545  0.7804882\n",
      " 0.75197212 0.75443793 0.76848285 0.76770587 0.73810526 0.74187143\n",
      " 0.73938403 0.7471376  0.74287503 0.74249733 0.73774375 0.7487509\n",
      " 0.74852968 0.75559261 0.79288744 0.84026137 0.83982971 0.8532811\n",
      " 0.86178467 0.87281341 0.85603829 0.86277208 0.85606527 0.87862993\n",
      " 0.87922346 0.88172704 0.87699505 0.87681159 0.86312279 0.88868745\n",
      " 0.89486009 0.8842738  0.92354884 0.95051637 0.93984914 0.93178262\n",
      " 0.90970356 0.91104708 0.92432581 0.93368189 0.90291042 0.88515869\n",
      " 0.8475617  0.85991237 0.88915148 0.8919842  0.8822828  0.88513171\n",
      " 0.91069636 0.90476653 0.93798763 0.93928259 0.95248039 0.93574304\n",
      " 0.94062611 0.9504732  0.9458707  0.93687613 0.96231668 0.97004867\n",
      " 0.9790918  0.98370509 1.         0.99586153 0.98280883 0.98714852\n",
      " 0.99093914 0.99435157 0.99750602 1.00048053 1.00332582 1.00607514\n",
      " 1.00874984 1.01136363 1.01392567 1.0164423 ]\n",
      "11 day output [[1.0189172]]\n",
      "12 day input [0.76869328 0.76362135 0.77002601 0.77030119 0.77473642 0.78433531\n",
      " 0.78779393 0.78179935 0.77313391 0.75356923 0.75679584 0.7699127\n",
      " 0.73548297 0.73845058 0.76254222 0.75948288 0.73297398 0.74504948\n",
      " 0.7771267  0.73160348 0.74699731 0.7482545  0.7804882  0.75197212\n",
      " 0.75443793 0.76848285 0.76770587 0.73810526 0.74187143 0.73938403\n",
      " 0.7471376  0.74287503 0.74249733 0.73774375 0.7487509  0.74852968\n",
      " 0.75559261 0.79288744 0.84026137 0.83982971 0.8532811  0.86178467\n",
      " 0.87281341 0.85603829 0.86277208 0.85606527 0.87862993 0.87922346\n",
      " 0.88172704 0.87699505 0.87681159 0.86312279 0.88868745 0.89486009\n",
      " 0.8842738  0.92354884 0.95051637 0.93984914 0.93178262 0.90970356\n",
      " 0.91104708 0.92432581 0.93368189 0.90291042 0.88515869 0.8475617\n",
      " 0.85991237 0.88915148 0.8919842  0.8822828  0.88513171 0.91069636\n",
      " 0.90476653 0.93798763 0.93928259 0.95248039 0.93574304 0.94062611\n",
      " 0.9504732  0.9458707  0.93687613 0.96231668 0.97004867 0.9790918\n",
      " 0.98370509 1.         0.99586153 0.98280883 0.98714852 0.99093914\n",
      " 0.99435157 0.99750602 1.00048053 1.00332582 1.00607514 1.00874984\n",
      " 1.01136363 1.01392567 1.0164423  1.0189172 ]\n",
      "12 day output [[1.0213534]]\n",
      "13 day input [0.76362135 0.77002601 0.77030119 0.77473642 0.78433531 0.78779393\n",
      " 0.78179935 0.77313391 0.75356923 0.75679584 0.7699127  0.73548297\n",
      " 0.73845058 0.76254222 0.75948288 0.73297398 0.74504948 0.7771267\n",
      " 0.73160348 0.74699731 0.7482545  0.7804882  0.75197212 0.75443793\n",
      " 0.76848285 0.76770587 0.73810526 0.74187143 0.73938403 0.7471376\n",
      " 0.74287503 0.74249733 0.73774375 0.7487509  0.74852968 0.75559261\n",
      " 0.79288744 0.84026137 0.83982971 0.8532811  0.86178467 0.87281341\n",
      " 0.85603829 0.86277208 0.85606527 0.87862993 0.87922346 0.88172704\n",
      " 0.87699505 0.87681159 0.86312279 0.88868745 0.89486009 0.8842738\n",
      " 0.92354884 0.95051637 0.93984914 0.93178262 0.90970356 0.91104708\n",
      " 0.92432581 0.93368189 0.90291042 0.88515869 0.8475617  0.85991237\n",
      " 0.88915148 0.8919842  0.8822828  0.88513171 0.91069636 0.90476653\n",
      " 0.93798763 0.93928259 0.95248039 0.93574304 0.94062611 0.9504732\n",
      " 0.9458707  0.93687613 0.96231668 0.97004867 0.9790918  0.98370509\n",
      " 1.         0.99586153 0.98280883 0.98714852 0.99093914 0.99435157\n",
      " 0.99750602 1.00048053 1.00332582 1.00607514 1.00874984 1.01136363\n",
      " 1.01392567 1.0164423  1.0189172  1.02135336]\n",
      "13 day output [[1.0237527]]\n",
      "14 day input [0.77002601 0.77030119 0.77473642 0.78433531 0.78779393 0.78179935\n",
      " 0.77313391 0.75356923 0.75679584 0.7699127  0.73548297 0.73845058\n",
      " 0.76254222 0.75948288 0.73297398 0.74504948 0.7771267  0.73160348\n",
      " 0.74699731 0.7482545  0.7804882  0.75197212 0.75443793 0.76848285\n",
      " 0.76770587 0.73810526 0.74187143 0.73938403 0.7471376  0.74287503\n",
      " 0.74249733 0.73774375 0.7487509  0.74852968 0.75559261 0.79288744\n",
      " 0.84026137 0.83982971 0.8532811  0.86178467 0.87281341 0.85603829\n",
      " 0.86277208 0.85606527 0.87862993 0.87922346 0.88172704 0.87699505\n",
      " 0.87681159 0.86312279 0.88868745 0.89486009 0.8842738  0.92354884\n",
      " 0.95051637 0.93984914 0.93178262 0.90970356 0.91104708 0.92432581\n",
      " 0.93368189 0.90291042 0.88515869 0.8475617  0.85991237 0.88915148\n",
      " 0.8919842  0.8822828  0.88513171 0.91069636 0.90476653 0.93798763\n",
      " 0.93928259 0.95248039 0.93574304 0.94062611 0.9504732  0.9458707\n",
      " 0.93687613 0.96231668 0.97004867 0.9790918  0.98370509 1.\n",
      " 0.99586153 0.98280883 0.98714852 0.99093914 0.99435157 0.99750602\n",
      " 1.00048053 1.00332582 1.00607514 1.00874984 1.01136363 1.01392567\n",
      " 1.0164423  1.0189172  1.02135336 1.02375269]\n",
      "14 day output [[1.0261168]]\n",
      "15 day input [0.77030119 0.77473642 0.78433531 0.78779393 0.78179935 0.77313391\n",
      " 0.75356923 0.75679584 0.7699127  0.73548297 0.73845058 0.76254222\n",
      " 0.75948288 0.73297398 0.74504948 0.7771267  0.73160348 0.74699731\n",
      " 0.7482545  0.7804882  0.75197212 0.75443793 0.76848285 0.76770587\n",
      " 0.73810526 0.74187143 0.73938403 0.7471376  0.74287503 0.74249733\n",
      " 0.73774375 0.7487509  0.74852968 0.75559261 0.79288744 0.84026137\n",
      " 0.83982971 0.8532811  0.86178467 0.87281341 0.85603829 0.86277208\n",
      " 0.85606527 0.87862993 0.87922346 0.88172704 0.87699505 0.87681159\n",
      " 0.86312279 0.88868745 0.89486009 0.8842738  0.92354884 0.95051637\n",
      " 0.93984914 0.93178262 0.90970356 0.91104708 0.92432581 0.93368189\n",
      " 0.90291042 0.88515869 0.8475617  0.85991237 0.88915148 0.8919842\n",
      " 0.8822828  0.88513171 0.91069636 0.90476653 0.93798763 0.93928259\n",
      " 0.95248039 0.93574304 0.94062611 0.9504732  0.9458707  0.93687613\n",
      " 0.96231668 0.97004867 0.9790918  0.98370509 1.         0.99586153\n",
      " 0.98280883 0.98714852 0.99093914 0.99435157 0.99750602 1.00048053\n",
      " 1.00332582 1.00607514 1.00874984 1.01136363 1.01392567 1.0164423\n",
      " 1.0189172  1.02135336 1.02375269 1.02611685]\n",
      "15 day output [[1.0284481]]\n",
      "16 day input [0.77473642 0.78433531 0.78779393 0.78179935 0.77313391 0.75356923\n",
      " 0.75679584 0.7699127  0.73548297 0.73845058 0.76254222 0.75948288\n",
      " 0.73297398 0.74504948 0.7771267  0.73160348 0.74699731 0.7482545\n",
      " 0.7804882  0.75197212 0.75443793 0.76848285 0.76770587 0.73810526\n",
      " 0.74187143 0.73938403 0.7471376  0.74287503 0.74249733 0.73774375\n",
      " 0.7487509  0.74852968 0.75559261 0.79288744 0.84026137 0.83982971\n",
      " 0.8532811  0.86178467 0.87281341 0.85603829 0.86277208 0.85606527\n",
      " 0.87862993 0.87922346 0.88172704 0.87699505 0.87681159 0.86312279\n",
      " 0.88868745 0.89486009 0.8842738  0.92354884 0.95051637 0.93984914\n",
      " 0.93178262 0.90970356 0.91104708 0.92432581 0.93368189 0.90291042\n",
      " 0.88515869 0.8475617  0.85991237 0.88915148 0.8919842  0.8822828\n",
      " 0.88513171 0.91069636 0.90476653 0.93798763 0.93928259 0.95248039\n",
      " 0.93574304 0.94062611 0.9504732  0.9458707  0.93687613 0.96231668\n",
      " 0.97004867 0.9790918  0.98370509 1.         0.99586153 0.98280883\n",
      " 0.98714852 0.99093914 0.99435157 0.99750602 1.00048053 1.00332582\n",
      " 1.00607514 1.00874984 1.01136363 1.01392567 1.0164423  1.0189172\n",
      " 1.02135336 1.02375269 1.02611685 1.0284481 ]\n",
      "16 day output [[1.030751]]\n",
      "17 day input [0.78433531 0.78779393 0.78179935 0.77313391 0.75356923 0.75679584\n",
      " 0.7699127  0.73548297 0.73845058 0.76254222 0.75948288 0.73297398\n",
      " 0.74504948 0.7771267  0.73160348 0.74699731 0.7482545  0.7804882\n",
      " 0.75197212 0.75443793 0.76848285 0.76770587 0.73810526 0.74187143\n",
      " 0.73938403 0.7471376  0.74287503 0.74249733 0.73774375 0.7487509\n",
      " 0.74852968 0.75559261 0.79288744 0.84026137 0.83982971 0.8532811\n",
      " 0.86178467 0.87281341 0.85603829 0.86277208 0.85606527 0.87862993\n",
      " 0.87922346 0.88172704 0.87699505 0.87681159 0.86312279 0.88868745\n",
      " 0.89486009 0.8842738  0.92354884 0.95051637 0.93984914 0.93178262\n",
      " 0.90970356 0.91104708 0.92432581 0.93368189 0.90291042 0.88515869\n",
      " 0.8475617  0.85991237 0.88915148 0.8919842  0.8822828  0.88513171\n",
      " 0.91069636 0.90476653 0.93798763 0.93928259 0.95248039 0.93574304\n",
      " 0.94062611 0.9504732  0.9458707  0.93687613 0.96231668 0.97004867\n",
      " 0.9790918  0.98370509 1.         0.99586153 0.98280883 0.98714852\n",
      " 0.99093914 0.99435157 0.99750602 1.00048053 1.00332582 1.00607514\n",
      " 1.00874984 1.01136363 1.01392567 1.0164423  1.0189172  1.02135336\n",
      " 1.02375269 1.02611685 1.0284481  1.03075099]\n"
     ]
    },
    {
     "name": "stdout",
     "output_type": "stream",
     "text": [
      "17 day output [[1.0330268]]\n",
      "18 day input [0.78779393 0.78179935 0.77313391 0.75356923 0.75679584 0.7699127\n",
      " 0.73548297 0.73845058 0.76254222 0.75948288 0.73297398 0.74504948\n",
      " 0.7771267  0.73160348 0.74699731 0.7482545  0.7804882  0.75197212\n",
      " 0.75443793 0.76848285 0.76770587 0.73810526 0.74187143 0.73938403\n",
      " 0.7471376  0.74287503 0.74249733 0.73774375 0.7487509  0.74852968\n",
      " 0.75559261 0.79288744 0.84026137 0.83982971 0.8532811  0.86178467\n",
      " 0.87281341 0.85603829 0.86277208 0.85606527 0.87862993 0.87922346\n",
      " 0.88172704 0.87699505 0.87681159 0.86312279 0.88868745 0.89486009\n",
      " 0.8842738  0.92354884 0.95051637 0.93984914 0.93178262 0.90970356\n",
      " 0.91104708 0.92432581 0.93368189 0.90291042 0.88515869 0.8475617\n",
      " 0.85991237 0.88915148 0.8919842  0.8822828  0.88513171 0.91069636\n",
      " 0.90476653 0.93798763 0.93928259 0.95248039 0.93574304 0.94062611\n",
      " 0.9504732  0.9458707  0.93687613 0.96231668 0.97004867 0.9790918\n",
      " 0.98370509 1.         0.99586153 0.98280883 0.98714852 0.99093914\n",
      " 0.99435157 0.99750602 1.00048053 1.00332582 1.00607514 1.00874984\n",
      " 1.01136363 1.01392567 1.0164423  1.0189172  1.02135336 1.02375269\n",
      " 1.02611685 1.0284481  1.03075099 1.03302681]\n",
      "18 day output [[1.0352767]]\n",
      "19 day input [0.78179935 0.77313391 0.75356923 0.75679584 0.7699127  0.73548297\n",
      " 0.73845058 0.76254222 0.75948288 0.73297398 0.74504948 0.7771267\n",
      " 0.73160348 0.74699731 0.7482545  0.7804882  0.75197212 0.75443793\n",
      " 0.76848285 0.76770587 0.73810526 0.74187143 0.73938403 0.7471376\n",
      " 0.74287503 0.74249733 0.73774375 0.7487509  0.74852968 0.75559261\n",
      " 0.79288744 0.84026137 0.83982971 0.8532811  0.86178467 0.87281341\n",
      " 0.85603829 0.86277208 0.85606527 0.87862993 0.87922346 0.88172704\n",
      " 0.87699505 0.87681159 0.86312279 0.88868745 0.89486009 0.8842738\n",
      " 0.92354884 0.95051637 0.93984914 0.93178262 0.90970356 0.91104708\n",
      " 0.92432581 0.93368189 0.90291042 0.88515869 0.8475617  0.85991237\n",
      " 0.88915148 0.8919842  0.8822828  0.88513171 0.91069636 0.90476653\n",
      " 0.93798763 0.93928259 0.95248039 0.93574304 0.94062611 0.9504732\n",
      " 0.9458707  0.93687613 0.96231668 0.97004867 0.9790918  0.98370509\n",
      " 1.         0.99586153 0.98280883 0.98714852 0.99093914 0.99435157\n",
      " 0.99750602 1.00048053 1.00332582 1.00607514 1.00874984 1.01136363\n",
      " 1.01392567 1.0164423  1.0189172  1.02135336 1.02375269 1.02611685\n",
      " 1.0284481  1.03075099 1.03302681 1.03527665]\n",
      "19 day output [[1.0375011]]\n",
      "20 day input [0.77313391 0.75356923 0.75679584 0.7699127  0.73548297 0.73845058\n",
      " 0.76254222 0.75948288 0.73297398 0.74504948 0.7771267  0.73160348\n",
      " 0.74699731 0.7482545  0.7804882  0.75197212 0.75443793 0.76848285\n",
      " 0.76770587 0.73810526 0.74187143 0.73938403 0.7471376  0.74287503\n",
      " 0.74249733 0.73774375 0.7487509  0.74852968 0.75559261 0.79288744\n",
      " 0.84026137 0.83982971 0.8532811  0.86178467 0.87281341 0.85603829\n",
      " 0.86277208 0.85606527 0.87862993 0.87922346 0.88172704 0.87699505\n",
      " 0.87681159 0.86312279 0.88868745 0.89486009 0.8842738  0.92354884\n",
      " 0.95051637 0.93984914 0.93178262 0.90970356 0.91104708 0.92432581\n",
      " 0.93368189 0.90291042 0.88515869 0.8475617  0.85991237 0.88915148\n",
      " 0.8919842  0.8822828  0.88513171 0.91069636 0.90476653 0.93798763\n",
      " 0.93928259 0.95248039 0.93574304 0.94062611 0.9504732  0.9458707\n",
      " 0.93687613 0.96231668 0.97004867 0.9790918  0.98370509 1.\n",
      " 0.99586153 0.98280883 0.98714852 0.99093914 0.99435157 0.99750602\n",
      " 1.00048053 1.00332582 1.00607514 1.00874984 1.01136363 1.01392567\n",
      " 1.0164423  1.0189172  1.02135336 1.02375269 1.02611685 1.0284481\n",
      " 1.03075099 1.03302681 1.03527665 1.0375011 ]\n",
      "20 day output [[1.0397007]]\n",
      "21 day input [0.75356923 0.75679584 0.7699127  0.73548297 0.73845058 0.76254222\n",
      " 0.75948288 0.73297398 0.74504948 0.7771267  0.73160348 0.74699731\n",
      " 0.7482545  0.7804882  0.75197212 0.75443793 0.76848285 0.76770587\n",
      " 0.73810526 0.74187143 0.73938403 0.7471376  0.74287503 0.74249733\n",
      " 0.73774375 0.7487509  0.74852968 0.75559261 0.79288744 0.84026137\n",
      " 0.83982971 0.8532811  0.86178467 0.87281341 0.85603829 0.86277208\n",
      " 0.85606527 0.87862993 0.87922346 0.88172704 0.87699505 0.87681159\n",
      " 0.86312279 0.88868745 0.89486009 0.8842738  0.92354884 0.95051637\n",
      " 0.93984914 0.93178262 0.90970356 0.91104708 0.92432581 0.93368189\n",
      " 0.90291042 0.88515869 0.8475617  0.85991237 0.88915148 0.8919842\n",
      " 0.8822828  0.88513171 0.91069636 0.90476653 0.93798763 0.93928259\n",
      " 0.95248039 0.93574304 0.94062611 0.9504732  0.9458707  0.93687613\n",
      " 0.96231668 0.97004867 0.9790918  0.98370509 1.         0.99586153\n",
      " 0.98280883 0.98714852 0.99093914 0.99435157 0.99750602 1.00048053\n",
      " 1.00332582 1.00607514 1.00874984 1.01136363 1.01392567 1.0164423\n",
      " 1.0189172  1.02135336 1.02375269 1.02611685 1.0284481  1.03075099\n",
      " 1.03302681 1.03527665 1.0375011  1.03970075]\n",
      "21 day output [[1.041876]]\n",
      "22 day input [0.75679584 0.7699127  0.73548297 0.73845058 0.76254222 0.75948288\n",
      " 0.73297398 0.74504948 0.7771267  0.73160348 0.74699731 0.7482545\n",
      " 0.7804882  0.75197212 0.75443793 0.76848285 0.76770587 0.73810526\n",
      " 0.74187143 0.73938403 0.7471376  0.74287503 0.74249733 0.73774375\n",
      " 0.7487509  0.74852968 0.75559261 0.79288744 0.84026137 0.83982971\n",
      " 0.8532811  0.86178467 0.87281341 0.85603829 0.86277208 0.85606527\n",
      " 0.87862993 0.87922346 0.88172704 0.87699505 0.87681159 0.86312279\n",
      " 0.88868745 0.89486009 0.8842738  0.92354884 0.95051637 0.93984914\n",
      " 0.93178262 0.90970356 0.91104708 0.92432581 0.93368189 0.90291042\n",
      " 0.88515869 0.8475617  0.85991237 0.88915148 0.8919842  0.8822828\n",
      " 0.88513171 0.91069636 0.90476653 0.93798763 0.93928259 0.95248039\n",
      " 0.93574304 0.94062611 0.9504732  0.9458707  0.93687613 0.96231668\n",
      " 0.97004867 0.9790918  0.98370509 1.         0.99586153 0.98280883\n",
      " 0.98714852 0.99093914 0.99435157 0.99750602 1.00048053 1.00332582\n",
      " 1.00607514 1.00874984 1.01136363 1.01392567 1.0164423  1.0189172\n",
      " 1.02135336 1.02375269 1.02611685 1.0284481  1.03075099 1.03302681\n",
      " 1.03527665 1.0375011  1.03970075 1.04187596]\n",
      "22 day output [[1.0440276]]\n",
      "23 day input [0.7699127  0.73548297 0.73845058 0.76254222 0.75948288 0.73297398\n",
      " 0.74504948 0.7771267  0.73160348 0.74699731 0.7482545  0.7804882\n",
      " 0.75197212 0.75443793 0.76848285 0.76770587 0.73810526 0.74187143\n",
      " 0.73938403 0.7471376  0.74287503 0.74249733 0.73774375 0.7487509\n",
      " 0.74852968 0.75559261 0.79288744 0.84026137 0.83982971 0.8532811\n",
      " 0.86178467 0.87281341 0.85603829 0.86277208 0.85606527 0.87862993\n",
      " 0.87922346 0.88172704 0.87699505 0.87681159 0.86312279 0.88868745\n",
      " 0.89486009 0.8842738  0.92354884 0.95051637 0.93984914 0.93178262\n",
      " 0.90970356 0.91104708 0.92432581 0.93368189 0.90291042 0.88515869\n",
      " 0.8475617  0.85991237 0.88915148 0.8919842  0.8822828  0.88513171\n",
      " 0.91069636 0.90476653 0.93798763 0.93928259 0.95248039 0.93574304\n",
      " 0.94062611 0.9504732  0.9458707  0.93687613 0.96231668 0.97004867\n",
      " 0.9790918  0.98370509 1.         0.99586153 0.98280883 0.98714852\n",
      " 0.99093914 0.99435157 0.99750602 1.00048053 1.00332582 1.00607514\n",
      " 1.00874984 1.01136363 1.01392567 1.0164423  1.0189172  1.02135336\n",
      " 1.02375269 1.02611685 1.0284481  1.03075099 1.03302681 1.03527665\n",
      " 1.0375011  1.03970075 1.04187596 1.04402757]\n",
      "23 day output [[1.0461557]]\n",
      "24 day input [0.73548297 0.73845058 0.76254222 0.75948288 0.73297398 0.74504948\n",
      " 0.7771267  0.73160348 0.74699731 0.7482545  0.7804882  0.75197212\n",
      " 0.75443793 0.76848285 0.76770587 0.73810526 0.74187143 0.73938403\n",
      " 0.7471376  0.74287503 0.74249733 0.73774375 0.7487509  0.74852968\n",
      " 0.75559261 0.79288744 0.84026137 0.83982971 0.8532811  0.86178467\n",
      " 0.87281341 0.85603829 0.86277208 0.85606527 0.87862993 0.87922346\n",
      " 0.88172704 0.87699505 0.87681159 0.86312279 0.88868745 0.89486009\n",
      " 0.8842738  0.92354884 0.95051637 0.93984914 0.93178262 0.90970356\n",
      " 0.91104708 0.92432581 0.93368189 0.90291042 0.88515869 0.8475617\n",
      " 0.85991237 0.88915148 0.8919842  0.8822828  0.88513171 0.91069636\n",
      " 0.90476653 0.93798763 0.93928259 0.95248039 0.93574304 0.94062611\n",
      " 0.9504732  0.9458707  0.93687613 0.96231668 0.97004867 0.9790918\n",
      " 0.98370509 1.         0.99586153 0.98280883 0.98714852 0.99093914\n",
      " 0.99435157 0.99750602 1.00048053 1.00332582 1.00607514 1.00874984\n",
      " 1.01136363 1.01392567 1.0164423  1.0189172  1.02135336 1.02375269\n",
      " 1.02611685 1.0284481  1.03075099 1.03302681 1.03527665 1.0375011\n",
      " 1.03970075 1.04187596 1.04402757 1.04615569]\n",
      "24 day output [[1.0482607]]\n",
      "25 day input [0.73845058 0.76254222 0.75948288 0.73297398 0.74504948 0.7771267\n",
      " 0.73160348 0.74699731 0.7482545  0.7804882  0.75197212 0.75443793\n",
      " 0.76848285 0.76770587 0.73810526 0.74187143 0.73938403 0.7471376\n",
      " 0.74287503 0.74249733 0.73774375 0.7487509  0.74852968 0.75559261\n",
      " 0.79288744 0.84026137 0.83982971 0.8532811  0.86178467 0.87281341\n",
      " 0.85603829 0.86277208 0.85606527 0.87862993 0.87922346 0.88172704\n",
      " 0.87699505 0.87681159 0.86312279 0.88868745 0.89486009 0.8842738\n",
      " 0.92354884 0.95051637 0.93984914 0.93178262 0.90970356 0.91104708\n",
      " 0.92432581 0.93368189 0.90291042 0.88515869 0.8475617  0.85991237\n",
      " 0.88915148 0.8919842  0.8822828  0.88513171 0.91069636 0.90476653\n",
      " 0.93798763 0.93928259 0.95248039 0.93574304 0.94062611 0.9504732\n",
      " 0.9458707  0.93687613 0.96231668 0.97004867 0.9790918  0.98370509\n",
      " 1.         0.99586153 0.98280883 0.98714852 0.99093914 0.99435157\n",
      " 0.99750602 1.00048053 1.00332582 1.00607514 1.00874984 1.01136363\n",
      " 1.01392567 1.0164423  1.0189172  1.02135336 1.02375269 1.02611685\n",
      " 1.0284481  1.03075099 1.03302681 1.03527665 1.0375011  1.03970075\n",
      " 1.04187596 1.04402757 1.04615569 1.04826069]\n",
      "25 day output [[1.0503432]]\n",
      "26 day input [0.76254222 0.75948288 0.73297398 0.74504948 0.7771267  0.73160348\n",
      " 0.74699731 0.7482545  0.7804882  0.75197212 0.75443793 0.76848285\n",
      " 0.76770587 0.73810526 0.74187143 0.73938403 0.7471376  0.74287503\n",
      " 0.74249733 0.73774375 0.7487509  0.74852968 0.75559261 0.79288744\n",
      " 0.84026137 0.83982971 0.8532811  0.86178467 0.87281341 0.85603829\n",
      " 0.86277208 0.85606527 0.87862993 0.87922346 0.88172704 0.87699505\n",
      " 0.87681159 0.86312279 0.88868745 0.89486009 0.8842738  0.92354884\n",
      " 0.95051637 0.93984914 0.93178262 0.90970356 0.91104708 0.92432581\n",
      " 0.93368189 0.90291042 0.88515869 0.8475617  0.85991237 0.88915148\n",
      " 0.8919842  0.8822828  0.88513171 0.91069636 0.90476653 0.93798763\n",
      " 0.93928259 0.95248039 0.93574304 0.94062611 0.9504732  0.9458707\n",
      " 0.93687613 0.96231668 0.97004867 0.9790918  0.98370509 1.\n",
      " 0.99586153 0.98280883 0.98714852 0.99093914 0.99435157 0.99750602\n",
      " 1.00048053 1.00332582 1.00607514 1.00874984 1.01136363 1.01392567\n",
      " 1.0164423  1.0189172  1.02135336 1.02375269 1.02611685 1.0284481\n",
      " 1.03075099 1.03302681 1.03527665 1.0375011  1.03970075 1.04187596\n",
      " 1.04402757 1.04615569 1.04826069 1.05034316]\n"
     ]
    },
    {
     "name": "stdout",
     "output_type": "stream",
     "text": [
      "26 day output [[1.0524036]]\n",
      "27 day input [0.75948288 0.73297398 0.74504948 0.7771267  0.73160348 0.74699731\n",
      " 0.7482545  0.7804882  0.75197212 0.75443793 0.76848285 0.76770587\n",
      " 0.73810526 0.74187143 0.73938403 0.7471376  0.74287503 0.74249733\n",
      " 0.73774375 0.7487509  0.74852968 0.75559261 0.79288744 0.84026137\n",
      " 0.83982971 0.8532811  0.86178467 0.87281341 0.85603829 0.86277208\n",
      " 0.85606527 0.87862993 0.87922346 0.88172704 0.87699505 0.87681159\n",
      " 0.86312279 0.88868745 0.89486009 0.8842738  0.92354884 0.95051637\n",
      " 0.93984914 0.93178262 0.90970356 0.91104708 0.92432581 0.93368189\n",
      " 0.90291042 0.88515869 0.8475617  0.85991237 0.88915148 0.8919842\n",
      " 0.8822828  0.88513171 0.91069636 0.90476653 0.93798763 0.93928259\n",
      " 0.95248039 0.93574304 0.94062611 0.9504732  0.9458707  0.93687613\n",
      " 0.96231668 0.97004867 0.9790918  0.98370509 1.         0.99586153\n",
      " 0.98280883 0.98714852 0.99093914 0.99435157 0.99750602 1.00048053\n",
      " 1.00332582 1.00607514 1.00874984 1.01136363 1.01392567 1.0164423\n",
      " 1.0189172  1.02135336 1.02375269 1.02611685 1.0284481  1.03075099\n",
      " 1.03302681 1.03527665 1.0375011  1.03970075 1.04187596 1.04402757\n",
      " 1.04615569 1.04826069 1.05034316 1.05240357]\n",
      "27 day output [[1.0544423]]\n",
      "28 day input [0.73297398 0.74504948 0.7771267  0.73160348 0.74699731 0.7482545\n",
      " 0.7804882  0.75197212 0.75443793 0.76848285 0.76770587 0.73810526\n",
      " 0.74187143 0.73938403 0.7471376  0.74287503 0.74249733 0.73774375\n",
      " 0.7487509  0.74852968 0.75559261 0.79288744 0.84026137 0.83982971\n",
      " 0.8532811  0.86178467 0.87281341 0.85603829 0.86277208 0.85606527\n",
      " 0.87862993 0.87922346 0.88172704 0.87699505 0.87681159 0.86312279\n",
      " 0.88868745 0.89486009 0.8842738  0.92354884 0.95051637 0.93984914\n",
      " 0.93178262 0.90970356 0.91104708 0.92432581 0.93368189 0.90291042\n",
      " 0.88515869 0.8475617  0.85991237 0.88915148 0.8919842  0.8822828\n",
      " 0.88513171 0.91069636 0.90476653 0.93798763 0.93928259 0.95248039\n",
      " 0.93574304 0.94062611 0.9504732  0.9458707  0.93687613 0.96231668\n",
      " 0.97004867 0.9790918  0.98370509 1.         0.99586153 0.98280883\n",
      " 0.98714852 0.99093914 0.99435157 0.99750602 1.00048053 1.00332582\n",
      " 1.00607514 1.00874984 1.01136363 1.01392567 1.0164423  1.0189172\n",
      " 1.02135336 1.02375269 1.02611685 1.0284481  1.03075099 1.03302681\n",
      " 1.03527665 1.0375011  1.03970075 1.04187596 1.04402757 1.04615569\n",
      " 1.04826069 1.05034316 1.05240357 1.05444229]\n",
      "28 day output [[1.0564595]]\n",
      "29 day input [0.74504948 0.7771267  0.73160348 0.74699731 0.7482545  0.7804882\n",
      " 0.75197212 0.75443793 0.76848285 0.76770587 0.73810526 0.74187143\n",
      " 0.73938403 0.7471376  0.74287503 0.74249733 0.73774375 0.7487509\n",
      " 0.74852968 0.75559261 0.79288744 0.84026137 0.83982971 0.8532811\n",
      " 0.86178467 0.87281341 0.85603829 0.86277208 0.85606527 0.87862993\n",
      " 0.87922346 0.88172704 0.87699505 0.87681159 0.86312279 0.88868745\n",
      " 0.89486009 0.8842738  0.92354884 0.95051637 0.93984914 0.93178262\n",
      " 0.90970356 0.91104708 0.92432581 0.93368189 0.90291042 0.88515869\n",
      " 0.8475617  0.85991237 0.88915148 0.8919842  0.8822828  0.88513171\n",
      " 0.91069636 0.90476653 0.93798763 0.93928259 0.95248039 0.93574304\n",
      " 0.94062611 0.9504732  0.9458707  0.93687613 0.96231668 0.97004867\n",
      " 0.9790918  0.98370509 1.         0.99586153 0.98280883 0.98714852\n",
      " 0.99093914 0.99435157 0.99750602 1.00048053 1.00332582 1.00607514\n",
      " 1.00874984 1.01136363 1.01392567 1.0164423  1.0189172  1.02135336\n",
      " 1.02375269 1.02611685 1.0284481  1.03075099 1.03302681 1.03527665\n",
      " 1.0375011  1.03970075 1.04187596 1.04402757 1.04615569 1.04826069\n",
      " 1.05034316 1.05240357 1.05444229 1.05645955]\n",
      "29 day output [[1.058456]]\n",
      "[[0.9871485233306885], [0.9909391403198242], [0.9943515658378601], [0.9975060224533081], [1.0004805326461792], [1.0033258199691772], [1.006075143814087], [1.0087498426437378], [1.0113636255264282], [1.0139256715774536], [1.0164422988891602], [1.018917202949524], [1.0213533639907837], [1.0237526893615723], [1.0261168479919434], [1.0284481048583984], [1.0307509899139404], [1.0330268144607544], [1.0352766513824463], [1.0375010967254639], [1.0397007465362549], [1.041875958442688], [1.04402756690979], [1.0461556911468506], [1.0482606887817383], [1.0503431558609009], [1.0524035692214966], [1.054442286491394], [1.0564595460891724], [1.0584559440612793]]\n"
     ]
    }
   ],
   "source": [
    "from numpy import array\n",
    "\n",
    "lst_output=[]\n",
    "n_steps=100\n",
    "i=0\n",
    "while(i<30):\n",
    "    if(len(temp_input)>100):\n",
    "         x_input=np.array(temp_input[1:])\n",
    "         print(\"{} day input {}\".format(i,x_input))\n",
    "         x_input=x_input.reshape(1,-1)\n",
    "         x_input = x_input.reshape((1, n_steps, 1))\n",
    "         #print(x_input)\n",
    "         yhat = model.predict(x_input, verbose=0)\n",
    "         print(\"{} day output {}\".format(i,yhat))\n",
    "         temp_input.extend(yhat[0].tolist())\n",
    "         temp_input=temp_input[1:]\n",
    "         #print(temp_input)\n",
    "         lst_output.extend(yhat.tolist())\n",
    "         i=i+1\n",
    "    else:\n",
    "        x_input = x_input.reshape((1, n_steps,1))\n",
    "        yhat = model.predict(x_input, verbose=0)\n",
    "        print(yhat[0])\n",
    "        temp_input.extend(yhat[0].tolist())\n",
    "        print(len(temp_input))\n",
    "        lst_output.extend(yhat.tolist())\n",
    "        i=i+1\n",
    "    \n",
    "\n",
    "print(lst_output)"
   ]
  },
  {
   "cell_type": "code",
   "execution_count": 108,
   "id": "41abd166",
   "metadata": {},
   "outputs": [],
   "source": [
    "day_new=np.arange(1,101)\n",
    "day_pred=np.arange(101,131)"
   ]
  },
  {
   "cell_type": "code",
   "execution_count": 109,
   "id": "85344823",
   "metadata": {},
   "outputs": [],
   "source": [
    "import matplotlib.pyplot as plt"
   ]
  },
  {
   "cell_type": "code",
   "execution_count": 110,
   "id": "033894d0",
   "metadata": {},
   "outputs": [
    {
     "data": {
      "text/plain": [
       "1258"
      ]
     },
     "execution_count": 110,
     "metadata": {},
     "output_type": "execute_result"
    }
   ],
   "source": [
    "len(df1-100)"
   ]
  },
  {
   "cell_type": "code",
   "execution_count": 112,
   "id": "10498811",
   "metadata": {},
   "outputs": [
    {
     "data": {
      "text/plain": [
       "[<matplotlib.lines.Line2D at 0x293082b7df0>]"
      ]
     },
     "execution_count": 112,
     "metadata": {},
     "output_type": "execute_result"
    },
    {
     "data": {
      "image/png": "[encoded data removed]",
      "text/plain": [
       "<Figure size 640x480 with 1 Axes>"
      ]
     },
     "metadata": {},
     "output_type": "display_data"
    }
   ],
   "source": [
    "plt.plot(day_new,scaler.inverse_transform(df1[1158:]) , color=\"red\")\n",
    "plt.plot(day_pred,scaler.inverse_transform(lst_output) , color=\"green\")"
   ]
  },
  {
   "cell_type": "code",
   "execution_count": 113,
   "id": "09f8d30f",
   "metadata": {},
   "outputs": [
    {
     "data": {
      "text/plain": [
       "[<matplotlib.lines.Line2D at 0x29305d17cd0>]"
      ]
     },
     "execution_count": 113,
     "metadata": {},
     "output_type": "execute_result"
    },
    {
     "data": {
      "image/png": "[encoded data removed]",
      "text/plain": [
       "<Figure size 640x480 with 1 Axes>"
      ]
     },
     "metadata": {},
     "output_type": "display_data"
    }
   ],
   "source": [
    "df3=df1.tolist()\n",
    "df3.extend(lst_output)\n",
    "plt.plot(df3[1200:] )"
   ]
  },
  {
   "cell_type": "code",
   "execution_count": 114,
   "id": "61320604",
   "metadata": {},
   "outputs": [],
   "source": [
    "df3=scaler.inverse_transform(df3).tolist()"
   ]
  },
  {
   "cell_type": "code",
   "execution_count": 115,
   "id": "a81c611c",
   "metadata": {},
   "outputs": [
    {
     "data": {
      "text/plain": [
       "[<matplotlib.lines.Line2D at 0x2930717ae90>]"
      ]
     },
     "execution_count": 115,
     "metadata": {},
     "output_type": "execute_result"
    },
    {
     "data": {
      "image/png": "[encoded data removed]",
      "text/plain": [
       "<Figure size 640x480 with 1 Axes>"
      ]
     },
     "metadata": {},
     "output_type": "display_data"
    }
   ],
   "source": [
    "plt.plot(df3)\n"
   ]
  },
  {
   "cell_type": "code",
   "execution_count": null,
   "id": "939b84db",
   "metadata": {},
   "outputs": [],
   "source": []
  }
 ],
 "metadata": {
  "kernelspec": {
   "display_name": "Python 3 (ipykernel)",
   "language": "python",
   "name": "python3"
  },
  "language_info": {
   "codemirror_mode": {
    "name": "ipython",
    "version": 3
   },
   "file_extension": ".py",
   "mimetype": "text/x-python",
   "name": "python",
   "nbconvert_exporter": "python",
   "pygments_lexer": "ipython3",
   "version": "3.10.13"
  }
 },
 "nbformat": 4,
 "nbformat_minor": 5
}
